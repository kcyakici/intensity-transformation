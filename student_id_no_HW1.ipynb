{
 "cells": [
  {
   "cell_type": "markdown",
   "id": "2c6b08ac",
   "metadata": {},
   "source": [
    "## Homework #1 - Due Date: 24 Oct, 23:59"
   ]
  },
  {
   "cell_type": "markdown",
   "id": "a420008a",
   "metadata": {},
   "source": [
    "Instructions:\n",
    "1. Upload a personal image in a hosting place that can be accessed using an URL. Alternatively, you can pick an image from an URL already available (but not the ones used in the lecture). Please select an image with some brightness problems, either too dark or too bright. Because you will try to fix that problem.\n",
    "2. Display the image making sure that the image has the color channels in the right order.\n",
    "3. Convert your image into grayscale (you can use any library for this).\n",
    "4. Implement power law transformation ($s = c$ $r^{\\gamma}$) to fix the brightness. You can use $c=1$. Do not forget to normalize your input intensities into [0,1] range. Do not use a built-in function from any library. If your image suffers from low intensities (too dark), $\\gamma$ values smaller than 1 should help. If your image suffers from high intensities (too bright), $\\gamma$ values greater than 1 should help. Explicitly write which $\\gamma$ value you chose.\n",
    "5. Plot two images (before and after power law transformation) side by side."
   ]
  },
  {
   "cell_type": "code",
   "execution_count": null,
   "id": "54b267e7",
   "metadata": {},
   "outputs": [],
   "source": []
  },
  {
   "cell_type": "code",
   "execution_count": null,
   "id": "52f9087b",
   "metadata": {},
   "outputs": [],
   "source": []
  },
  {
   "cell_type": "code",
   "execution_count": null,
   "id": "ebad5170",
   "metadata": {},
   "outputs": [],
   "source": []
  },
  {
   "cell_type": "code",
   "execution_count": null,
   "id": "e9f5a040",
   "metadata": {},
   "outputs": [],
   "source": []
  },
  {
   "cell_type": "code",
   "execution_count": null,
   "id": "902d01d4",
   "metadata": {},
   "outputs": [],
   "source": []
  },
  {
   "cell_type": "code",
   "execution_count": null,
   "id": "9605a490",
   "metadata": {},
   "outputs": [],
   "source": []
  }
 ],
 "metadata": {
  "kernelspec": {
   "display_name": "Python 3 (ipykernel)",
   "language": "python",
   "name": "python3"
  },
  "language_info": {
   "codemirror_mode": {
    "name": "ipython",
    "version": 3
   },
   "file_extension": ".py",
   "mimetype": "text/x-python",
   "name": "python",
   "nbconvert_exporter": "python",
   "pygments_lexer": "ipython3",
   "version": "3.8.10"
  }
 },
 "nbformat": 4,
 "nbformat_minor": 5
}
